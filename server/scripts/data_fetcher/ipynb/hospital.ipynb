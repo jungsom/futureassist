{
 "cells": [
  {
   "cell_type": "code",
   "execution_count": 1,
   "metadata": {},
   "outputs": [],
   "source": [
    "import pandas as pd\n",
    "import os"
   ]
  },
  {
   "cell_type": "code",
   "execution_count": 2,
   "metadata": {},
   "outputs": [],
   "source": [
    " # 데이터 경로 설정\n",
    "input_dir = \"../data\"\n",
    "output_dir = \"../data\"\n",
    "hospital_info = os.path.join(input_dir, \"hospital2024_6.csv\")\n",
    "hospital_dept = os.path.join(input_dir, \"hospital_department2024_6.csv\")\n",
    "device = os.path.join(input_dir, \"medical_device2024_6.csv\")\n",
    "hospital_output = os.path.join(output_dir, \"hospital.csv\")\n",
    "hospital_specialties_output = os.path.join(output_dir, \"hospital_specialities.csv\")\n",
    "medical_device_output = os.path.join(output_dir, \"medical_device.csv\")"
   ]
  },
  {
   "cell_type": "code",
   "execution_count": 3,
   "metadata": {},
   "outputs": [],
   "source": [
    "# CSV 파일 읽기\n",
    "hospital_df = pd.read_csv(hospital_info)\n",
    "device_df = pd.read_csv(device)\n",
    "hospital_dept_df = pd.read_csv(hospital_dept)"
   ]
  },
  {
   "cell_type": "code",
   "execution_count": 4,
   "metadata": {},
   "outputs": [
    {
     "name": "stderr",
     "output_type": "stream",
     "text": [
      "C:\\Users\\youngeun\\AppData\\Local\\Temp\\ipykernel_16692\\439308578.py:7: SettingWithCopyWarning: \n",
      "A value is trying to be set on a copy of a slice from a DataFrame\n",
      "\n",
      "See the caveats in the documentation: https://pandas.pydata.org/pandas-docs/stable/user_guide/indexing.html#returning-a-view-versus-a-copy\n",
      "  hospital_extracted.rename(columns={\n"
     ]
    }
   ],
   "source": [
    "# 병원 정보 추출 및 저장\n",
    "hospital_columns = [\n",
    "    '암호화요양기호', '요양기관명', '종별코드명', '전화번호', '병원홈페이지', '주소', '시도코드명', \n",
    "    '시군구코드명', '읍면동', '좌표(X)', '좌표(Y)'\n",
    "]\n",
    "hospital_extracted = hospital_df[hospital_columns]\n",
    "hospital_extracted.rename(columns={\n",
    "    '암호화요양기호': 'hospital_id',\n",
    "    '요양기관명': 'name',\n",
    "    '종별코드명': 'type',\n",
    "    '전화번호': 'telno',\n",
    "    '병원홈페이지': 'hospUrl',\n",
    "    '주소': 'addr',\n",
    "    '시도코드명': 'sido_addr',\n",
    "    '시군구코드명': 'sigu_addr',\n",
    "    '읍면동': 'dong_addr',\n",
    "    '좌표(X)': 'xPos',\n",
    "    '좌표(Y)': 'yPos'\n",
    "}, inplace=True)\n",
    "hospital_extracted.to_csv(hospital_output, index=False, encoding='utf-8-sig')"
   ]
  },
  {
   "cell_type": "code",
   "execution_count": 5,
   "metadata": {},
   "outputs": [
    {
     "name": "stderr",
     "output_type": "stream",
     "text": [
      "C:\\Users\\youngeun\\AppData\\Local\\Temp\\ipykernel_16692\\2571108768.py:4: SettingWithCopyWarning: \n",
      "A value is trying to be set on a copy of a slice from a DataFrame\n",
      "\n",
      "See the caveats in the documentation: https://pandas.pydata.org/pandas-docs/stable/user_guide/indexing.html#returning-a-view-versus-a-copy\n",
      "  device_extracted.rename(columns={\n"
     ]
    }
   ],
   "source": [
    "# 의료 장비 정보 추출 및 저장\n",
    "device_columns = ['암호화요양기호', '장비코드명', '장비대수']\n",
    "device_extracted = device_df[device_columns]\n",
    "device_extracted.rename(columns={\n",
    "    '암호화요양기호': 'hospital_id',\n",
    "    '장비코드명': 'device_name',\n",
    "    '장비대수': 'device_cnt'\n",
    "}, inplace=True)\n",
    "device_extracted.to_csv(medical_device_output, index=False, encoding='utf-8-sig')"
   ]
  },
  {
   "cell_type": "code",
   "execution_count": 6,
   "metadata": {},
   "outputs": [
    {
     "name": "stderr",
     "output_type": "stream",
     "text": [
      "C:\\Users\\youngeun\\AppData\\Local\\Temp\\ipykernel_16692\\1587943118.py:4: SettingWithCopyWarning: \n",
      "A value is trying to be set on a copy of a slice from a DataFrame\n",
      "\n",
      "See the caveats in the documentation: https://pandas.pydata.org/pandas-docs/stable/user_guide/indexing.html#returning-a-view-versus-a-copy\n",
      "  hospital_dept_extracted.rename(columns={\n"
     ]
    }
   ],
   "source": [
    "# 병원 진료과목 정보 추출 및 저장\n",
    "hospital_dept_columns = ['암호화요양기호', '진료과목코드명', '과목별 전문의수']\n",
    "hospital_dept_extracted = hospital_dept_df[hospital_dept_columns]\n",
    "hospital_dept_extracted.rename(columns={\n",
    "    '암호화요양기호': 'hospital_id',\n",
    "    '진료과목코드명': 'department',\n",
    "    '과목별 전문의수': 'specialist'\n",
    "}, inplace=True)\n",
    "hospital_dept_extracted.to_csv(hospital_specialties_output, index=False, encoding='utf-8-sig')"
   ]
  }
 ],
 "metadata": {
  "kernelspec": {
   "display_name": "Python 3",
   "language": "python",
   "name": "python3"
  },
  "language_info": {
   "codemirror_mode": {
    "name": "ipython",
    "version": 3
   },
   "file_extension": ".py",
   "mimetype": "text/x-python",
   "name": "python",
   "nbconvert_exporter": "python",
   "pygments_lexer": "ipython3",
   "version": "3.10.5"
  }
 },
 "nbformat": 4,
 "nbformat_minor": 2
}
