{
 "cells": [
  {
   "cell_type": "code",
   "execution_count": 19,
   "metadata": {},
   "outputs": [
    {
     "data": {
      "text/plain": [
       "True"
      ]
     },
     "execution_count": 19,
     "metadata": {},
     "output_type": "execute_result"
    }
   ],
   "source": [
    "import os\n",
    "import pandas as pd\n",
    "from sqlalchemy import create_engine\n",
    "from dotenv import load_dotenv\n",
    "\n",
    "load_dotenv()"
   ]
  },
  {
   "cell_type": "code",
   "execution_count": 20,
   "metadata": {},
   "outputs": [],
   "source": [
    "# 데이터베이스 연결 정보\n",
    "DB_HOST = os.getenv('DB_HOST')\n",
    "DB_PORT = os.getenv('DB_PORT', '5432')\n",
    "DB_USER = os.getenv('DB_USER')\n",
    "DB_PASSWORD = os.getenv('DB_PASSWORD')\n",
    "DB_NAME = os.getenv('DB_NAME')"
   ]
  },
  {
   "cell_type": "code",
   "execution_count": 21,
   "metadata": {},
   "outputs": [],
   "source": [
    "# 데이터베이스 연결\n",
    "db_connection_str = f'postgresql+psycopg2://{DB_USER}:{DB_PASSWORD}@{DB_HOST}:{DB_PORT}/{DB_NAME}'\n",
    "db_connection = create_engine(db_connection_str)"
   ]
  },
  {
   "cell_type": "code",
   "execution_count": 22,
   "metadata": {},
   "outputs": [],
   "source": [
    "# CSV 파일 경로 설정\n",
    "base_dir = os.path.join(os.getcwd(), 'data_fetcher', 'data')\n",
    "\n",
    "csv_files = {\n",
    "    'hospital': os.path.join(base_dir, 'hospital.csv'),\n",
    "    'medical_device': os.path.join(base_dir, 'medical_device.csv'),\n",
    "    'hospital_speciality': os.path.join(base_dir, 'hospital_specialities.csv')\n",
    "}"
   ]
  },
  {
   "cell_type": "code",
   "execution_count": 23,
   "metadata": {},
   "outputs": [],
   "source": [
    "def load_csv_to_db(table_name, csv_file):\n",
    "    try:\n",
    "        print(f\"Loading {table_name} from {csv_file}\")\n",
    "        df = pd.read_csv(csv_file)\n",
    "        df.to_sql(table_name, db_connection, if_exists='append', index=False)\n",
    "        print(f\"Data loaded successfully into {table_name}\")\n",
    "    except Exception as e:\n",
    "        print(f\"Error loading {table_name} from {csv_file}: {e}\")"
   ]
  },
  {
   "cell_type": "code",
   "execution_count": 24,
   "metadata": {},
   "outputs": [
    {
     "name": "stdout",
     "output_type": "stream",
     "text": [
      "Loading hospital from c:\\Users\\youngeun\\Desktop\\AIproject\\PROJECT\\server\\scripts\\data_fetcher\\data\\hospital.csv\n",
      "Data loaded successfully into hospital\n",
      "Loading medical_device from c:\\Users\\youngeun\\Desktop\\AIproject\\PROJECT\\server\\scripts\\data_fetcher\\data\\medical_device.csv\n",
      "Data loaded successfully into medical_device\n",
      "Loading hospital_speciality from c:\\Users\\youngeun\\Desktop\\AIproject\\PROJECT\\server\\scripts\\data_fetcher\\data\\hospital_specialities.csv\n",
      "Data loaded successfully into hospital_speciality\n"
     ]
    }
   ],
   "source": [
    "def main():\n",
    "    for table_name, csv_file in csv_files.items():\n",
    "        load_csv_to_db(table_name, csv_file)\n",
    "\n",
    "if __name__ == '__main__':\n",
    "    main()"
   ]
  }
 ],
 "metadata": {
  "kernelspec": {
   "display_name": "Python 3",
   "language": "python",
   "name": "python3"
  },
  "language_info": {
   "codemirror_mode": {
    "name": "ipython",
    "version": 3
   },
   "file_extension": ".py",
   "mimetype": "text/x-python",
   "name": "python",
   "nbconvert_exporter": "python",
   "pygments_lexer": "ipython3",
   "version": "3.10.5"
  }
 },
 "nbformat": 4,
 "nbformat_minor": 2
}
