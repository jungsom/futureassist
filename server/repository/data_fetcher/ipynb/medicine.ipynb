{
 "cells": [
  {
   "cell_type": "code",
   "execution_count": 18,
   "metadata": {},
   "outputs": [],
   "source": [
    "import requests\n",
    "import pandas as pd\n",
    "import xml.etree.ElementTree as ET\n",
    "import os"
   ]
  },
  {
   "cell_type": "code",
   "execution_count": 25,
   "metadata": {},
   "outputs": [],
   "source": [
    "# API 설정\n",
    "api_url = \"http://apis.data.go.kr/1471000/DrbEasyDrugInfoService/getDrbEasyDrugList\"\n",
    "service_key = \"EddYczqDlOv5/tU0oeG7NactEjZJJ77hlDl5ZfDyOzcJSAGZpGoSk9Frsq4ksUd9Cu30JAraDzx2cT7nKfMEqQ==\"\n",
    "num_of_rows = 100\n",
    "page_no = 1\n",
    "\n",
    "# 데이터 경로 설정\n",
    "output_dir = \"../data\"\n",
    "os.makedirs(output_dir, exist_ok=True)\n",
    "output_csv = os.path.join(output_dir, \"medicine_info.csv\")"
   ]
  },
  {
   "cell_type": "code",
   "execution_count": 20,
   "metadata": {},
   "outputs": [],
   "source": [
    "# 데이터프레임\n",
    "columns = [\"medicine_id\", \"name\", \"efficacy\", \"usage\", \"caution\", \"interaction\", \"sideEffect\", \"storageCondition\"]\n",
    "all_data = []\n",
    "\n",
    "while True:\n",
    "    params = {\n",
    "        'serviceKey': service_key,\n",
    "        'pageNo': page_no,\n",
    "        'numOfRows': num_of_rows,\n",
    "        'type': 'xml'\n",
    "    }\n",
    "    response = requests.get(api_url, params=params)\n",
    "    response.encoding = 'utf-8'\n",
    "    \n",
    "    try:\n",
    "        root = ET.fromstring(response.content)\n",
    "    except ET.ParseError as e:\n",
    "        print(f\"Failed to parse XML: {e}\")\n",
    "        break\n",
    "    \n",
    "    # 아이템 추출\n",
    "    items = root.findall(\".//item\")\n",
    "    if not items:\n",
    "        break\n",
    "    \n",
    "    for item in items:\n",
    "        data = {\n",
    "            \"medicine_id\": item.findtext(\"itemSeq\"),\n",
    "            \"name\": item.findtext(\"itemName\"),\n",
    "            \"efficacy\": item.findtext(\"efcyQesitm\"),\n",
    "            \"usage\": item.findtext(\"useMethodQesitm\"),\n",
    "            \"caution\": item.findtext(\"atpnQesitm\"),\n",
    "            \"interaction\": item.findtext(\"intrcQesitm\"),\n",
    "            \"sideEffect\": item.findtext(\"seQesitm\"),\n",
    "            \"storageCondition\": item.findtext(\"depositMethodQesitm\")\n",
    "        }\n",
    "        all_data.append(data)\n",
    "    \n",
    "    page_no += 1\n",
    "\n",
    "df = pd.DataFrame(all_data, columns=columns)"
   ]
  },
  {
   "cell_type": "code",
   "execution_count": 23,
   "metadata": {},
   "outputs": [],
   "source": [
    "# CSV 파일로 저장\n",
    "df.to_csv(output_csv, index=False, encoding='utf-8-sig')"
   ]
  }
 ],
 "metadata": {
  "kernelspec": {
   "display_name": "Python 3",
   "language": "python",
   "name": "python3"
  },
  "language_info": {
   "codemirror_mode": {
    "name": "ipython",
    "version": 3
   },
   "file_extension": ".py",
   "mimetype": "text/x-python",
   "name": "python",
   "nbconvert_exporter": "python",
   "pygments_lexer": "ipython3",
   "version": "3.10.5"
  }
 },
 "nbformat": 4,
 "nbformat_minor": 2
}
