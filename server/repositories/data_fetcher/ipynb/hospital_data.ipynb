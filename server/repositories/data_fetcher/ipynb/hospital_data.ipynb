{
 "cells": [
  {
   "cell_type": "code",
   "execution_count": 1,
   "metadata": {},
   "outputs": [],
   "source": [
    "import csv\n",
    "from openpyxl import load_workbook\n",
    "import os"
   ]
  },
  {
   "cell_type": "code",
   "execution_count": 2,
   "metadata": {},
   "outputs": [],
   "source": [
    "# 데이터 경로 설정\n",
    "input_dir = \"../data\"\n",
    "hospital_dept_file = os.path.join(input_dir, \"hospital_department2024_6.xlsx\")\n",
    "hospital_file = os.path.join(input_dir, \"hospital2024_6.xlsx\")\n",
    "hospital_dept_csv = os.path.join(input_dir, \"hospital_department2024_6.csv\")\n",
    "hospital_csv = os.path.join(input_dir, \"hospital2024_6.csv\")"
   ]
  },
  {
   "cell_type": "code",
   "execution_count": 3,
   "metadata": {},
   "outputs": [
    {
     "name": "stdout",
     "output_type": "stream",
     "text": [
      "../data\\hospital_department2024_6.xlsx has been converted to ../data\\hospital_department2024_6.csv\n",
      "../data\\hospital2024_6.xlsx has been converted to ../data\\hospital2024_6.csv\n"
     ]
    }
   ],
   "source": [
    "# 엑셀 파일 행 단위로 CSV 파일 변환\n",
    "def convert_excel_to_csv(excel_file, csv_file, sheet_name='Sheet1'):\n",
    "    workbook = load_workbook(excel_file, read_only=True, data_only=True)\n",
    "    sheet = workbook[sheet_name]\n",
    "    \n",
    "    with open(csv_file, mode='w', newline='', encoding='utf-8-sig') as f:\n",
    "        writer = csv.writer(f)\n",
    "        for row in sheet.iter_rows(values_only=True):\n",
    "            writer.writerow(row)\n",
    "    \n",
    "    print(f\"{excel_file} has been converted to {csv_file}\")\n",
    "\n",
    "convert_excel_to_csv(hospital_dept_file, hospital_dept_csv)\n",
    "convert_excel_to_csv(hospital_file, hospital_csv)"
   ]
  }
 ],
 "metadata": {
  "kernelspec": {
   "display_name": "Python 3",
   "language": "python",
   "name": "python3"
  },
  "language_info": {
   "codemirror_mode": {
    "name": "ipython",
    "version": 3
   },
   "file_extension": ".py",
   "mimetype": "text/x-python",
   "name": "python",
   "nbconvert_exporter": "python",
   "pygments_lexer": "ipython3",
   "version": "3.10.5"
  }
 },
 "nbformat": 4,
 "nbformat_minor": 2
}
