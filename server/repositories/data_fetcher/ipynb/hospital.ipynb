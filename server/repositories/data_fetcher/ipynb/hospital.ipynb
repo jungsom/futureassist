{
 "cells": [
  {
   "cell_type": "code",
   "execution_count": 1,
   "metadata": {},
   "outputs": [],
   "source": [
    "import pandas as pd\n",
    "import os"
   ]
  },
  {
   "cell_type": "code",
   "execution_count": 2,
   "metadata": {},
   "outputs": [],
   "source": [
    " # 데이터 경로 설정\n",
    "input_dir = \"../data\"\n",
    "hospital_dept_csv = os.path.join(input_dir, \"hospital_department2024_6.csv\")\n",
    "hospital_csv = os.path.join(input_dir, \"hospital2024_6.csv\")\n",
    "output_csv = os.path.join(input_dir, \"hospital_info.csv\")"
   ]
  },
  {
   "cell_type": "code",
   "execution_count": 3,
   "metadata": {},
   "outputs": [],
   "source": [
    "# CSV 파일 읽기\n",
    "hospital_dept_df = pd.read_csv(hospital_dept_csv)\n",
    "hospital_df = pd.read_csv(hospital_csv)"
   ]
  },
  {
   "cell_type": "code",
   "execution_count": 4,
   "metadata": {},
   "outputs": [],
   "source": [
    " # 병합\n",
    "merge_columns = ['암호화요양기호', '요양기관명']\n",
    "merged_df = pd.merge(hospital_df, hospital_dept_df, on=merge_columns)"
   ]
  },
  {
   "cell_type": "code",
   "execution_count": 5,
   "metadata": {},
   "outputs": [
    {
     "name": "stderr",
     "output_type": "stream",
     "text": [
      "C:\\Users\\youngeun\\AppData\\Local\\Temp\\ipykernel_12580\\2408881984.py:10: SettingWithCopyWarning: \n",
      "A value is trying to be set on a copy of a slice from a DataFrame\n",
      "\n",
      "See the caveats in the documentation: https://pandas.pydata.org/pandas-docs/stable/user_guide/indexing.html#returning-a-view-versus-a-copy\n",
      "  extracted_df.rename(columns={\n"
     ]
    }
   ],
   "source": [
    " # 컬럼 추출\n",
    "columns = [\n",
    "    '요양기관명', '종별코드명', '진료과목코드', '과목별 전문의수', \n",
    "    '전화번호', '병원홈페이지', '주소', '시도코드명', \n",
    "    '시군구코드명', '읍면동', '좌표(X)', '좌표(Y)'\n",
    "]\n",
    "extracted_df = merged_df[columns]\n",
    "\n",
    "# 컬럼명 변경\n",
    "extracted_df.rename(columns={\n",
    "    '요양기관명': 'name',\n",
    "    '종별코드명': 'type',\n",
    "    '진료과목코드': 'md_code',\n",
    "    '과목별 전문의수': 'specialist',\n",
    "    '전화번호': 'telno',\n",
    "    '병원홈페이지': 'hospUrl',\n",
    "    '주소': 'addr',\n",
    "    '시도코드명': 'sido_addr',\n",
    "    '시군구코드명': 'sigu_addr',\n",
    "    '읍면동': 'dong_addr',\n",
    "    '좌표(X)': 'xPos',\n",
    "    '좌표(Y)': 'yPos'\n",
    "}, inplace=True)"
   ]
  },
  {
   "cell_type": "code",
   "execution_count": 6,
   "metadata": {},
   "outputs": [],
   "source": [
    " # CSV 파일로 저장\n",
    "extracted_df.to_csv(output_csv, index=False, encoding='utf-8-sig')"
   ]
  }
 ],
 "metadata": {
  "kernelspec": {
   "display_name": "Python 3",
   "language": "python",
   "name": "python3"
  },
  "language_info": {
   "codemirror_mode": {
    "name": "ipython",
    "version": 3
   },
   "file_extension": ".py",
   "mimetype": "text/x-python",
   "name": "python",
   "nbconvert_exporter": "python",
   "pygments_lexer": "ipython3",
   "version": "3.10.5"
  }
 },
 "nbformat": 4,
 "nbformat_minor": 2
}
